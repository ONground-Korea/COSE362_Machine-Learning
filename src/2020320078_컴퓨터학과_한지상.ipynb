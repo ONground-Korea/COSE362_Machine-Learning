{
  "metadata": {
    "kernelspec": {
      "language": "python",
      "display_name": "Python 3",
      "name": "python3"
    },
    "language_info": {
      "name": "python",
      "version": "3.7.12",
      "mimetype": "text/x-python",
      "codemirror_mode": {
        "name": "ipython",
        "version": 3
      },
      "pygments_lexer": "ipython3",
      "nbconvert_exporter": "python",
      "file_extension": ".py"
    },
    "colab": {
      "name": "2020320078_컴퓨터학과 한지상.ipynb",
      "provenance": []
    },
    "accelerator": "GPU"
  },
  "nbformat_minor": 0,
  "nbformat": 4,
  "cells": [
    {
      "cell_type": "code",
      "source": [
        "import torch\n",
        "import torch.nn as nn\n",
        "import torch.nn.functional as F\n",
        "from torch.autograd import Variable\n",
        "import torchvision\n",
        "import numpy as np\n",
        "import pandas as pd\n",
        "import matplotlib.pyplot as plt\n",
        "import re\n",
        "import os\n",
        "\n",
        "import nltk\n",
        "from nltk.tokenize import word_tokenize\n",
        "from nltk import PorterStemmer\n",
        "from nltk import WordNetLemmatizer\n",
        "from nltk.corpus import stopwords\n",
        "\n",
        "from sklearn.feature_extraction.text import CountVectorizer\n",
        "from sklearn.model_selection import train_test_split\n",
        "\n",
        "from tqdm import tqdm_notebook as tqdm"
      ],
      "metadata": {
        "id": "ZwTzL52v-hTJ",
        "execution": {
          "iopub.status.busy": "2021-12-10T12:53:26.786609Z",
          "iopub.execute_input": "2021-12-10T12:53:26.787090Z",
          "iopub.status.idle": "2021-12-10T12:53:29.927853Z",
          "shell.execute_reply.started": "2021-12-10T12:53:26.786951Z",
          "shell.execute_reply": "2021-12-10T12:53:29.927014Z"
        },
        "trusted": true
      },
      "execution_count": null,
      "outputs": []
    },
    {
      "cell_type": "code",
      "source": [
        "data = pd.read_csv('./data/train.csv')\n",
        "test = pd.read_csv('./data/test.csv')\n",
        "print(data.shape, test.shape)"
      ],
      "metadata": {
        "id": "PEN4s4kM-hTM",
        "execution": {
          "iopub.status.busy": "2021-12-10T12:53:29.931521Z",
          "iopub.execute_input": "2021-12-10T12:53:29.931755Z",
          "iopub.status.idle": "2021-12-10T12:53:30.054910Z",
          "shell.execute_reply.started": "2021-12-10T12:53:29.931729Z",
          "shell.execute_reply": "2021-12-10T12:53:30.054078Z"
        },
        "trusted": true
      },
      "execution_count": null,
      "outputs": []
    },
    {
      "cell_type": "code",
      "source": [
        "data.dropna(inplace=True)\n",
        "test.dropna(inplace=True)"
      ],
      "metadata": {
        "id": "sObRxgLl-hTN",
        "execution": {
          "iopub.status.busy": "2021-12-10T12:53:30.056378Z",
          "iopub.execute_input": "2021-12-10T12:53:30.056904Z",
          "iopub.status.idle": "2021-12-10T12:53:30.071944Z",
          "shell.execute_reply.started": "2021-12-10T12:53:30.056862Z",
          "shell.execute_reply": "2021-12-10T12:53:30.071202Z"
        },
        "trusted": true
      },
      "execution_count": null,
      "outputs": []
    },
    {
      "cell_type": "code",
      "source": [
        "remove_non_alphabets =lambda x: re.sub(r'[^a-zA-Z]',' ',x)"
      ],
      "metadata": {
        "id": "pQtKfT7A-hTO",
        "execution": {
          "iopub.status.busy": "2021-12-10T12:53:30.073345Z",
          "iopub.execute_input": "2021-12-10T12:53:30.073634Z",
          "iopub.status.idle": "2021-12-10T12:53:30.078324Z",
          "shell.execute_reply.started": "2021-12-10T12:53:30.073598Z",
          "shell.execute_reply": "2021-12-10T12:53:30.077492Z"
        },
        "trusted": true
      },
      "execution_count": null,
      "outputs": []
    },
    {
      "cell_type": "code",
      "source": [
        "tokenize = lambda x: word_tokenize(x)"
      ],
      "metadata": {
        "id": "2d1OIDMC-hTP",
        "execution": {
          "iopub.status.busy": "2021-12-10T12:53:30.081060Z",
          "iopub.execute_input": "2021-12-10T12:53:30.082199Z",
          "iopub.status.idle": "2021-12-10T12:53:30.087261Z",
          "shell.execute_reply.started": "2021-12-10T12:53:30.082157Z",
          "shell.execute_reply": "2021-12-10T12:53:30.085859Z"
        },
        "trusted": true
      },
      "execution_count": null,
      "outputs": []
    },
    {
      "cell_type": "code",
      "source": [
        "ps = PorterStemmer()\n",
        "stem = lambda w: [ ps.stem(x) for x in w ]"
      ],
      "metadata": {
        "id": "TdM7zi2N-hTP",
        "execution": {
          "iopub.status.busy": "2021-12-10T12:53:30.088891Z",
          "iopub.execute_input": "2021-12-10T12:53:30.089609Z",
          "iopub.status.idle": "2021-12-10T12:53:30.096315Z",
          "shell.execute_reply.started": "2021-12-10T12:53:30.089571Z",
          "shell.execute_reply": "2021-12-10T12:53:30.095244Z"
        },
        "trusted": true
      },
      "execution_count": null,
      "outputs": []
    },
    {
      "cell_type": "code",
      "source": [
        "lemmatizer = WordNetLemmatizer()\n",
        "leammtizer = lambda x: [ lemmatizer.lemmatize(word) for word in x ]"
      ],
      "metadata": {
        "id": "UDO21yDb-hTQ",
        "execution": {
          "iopub.status.busy": "2021-12-10T12:53:30.097816Z",
          "iopub.execute_input": "2021-12-10T12:53:30.098087Z",
          "iopub.status.idle": "2021-12-10T12:53:30.104940Z",
          "shell.execute_reply.started": "2021-12-10T12:53:30.098049Z",
          "shell.execute_reply": "2021-12-10T12:53:30.104000Z"
        },
        "trusted": true
      },
      "execution_count": null,
      "outputs": []
    },
    {
      "cell_type": "code",
      "source": [
        "nltk.download('punkt')\n",
        "nltk.download('stopwords')\n",
        "nltk.download('wordnet')\n",
        "data['mail'] = data['mail'].apply(remove_non_alphabets)\n",
        "test['mail'] = test['mail'].apply(remove_non_alphabets)\n",
        "\n",
        "data['mail'] = data['mail'].apply(tokenize)\n",
        "test['mail'] = test['mail'].apply(tokenize)\n",
        "\n",
        "data['mail'] = data['mail'].apply(stem)\n",
        "test['mail'] = test['mail'].apply(stem)\n",
        "\n",
        "data['mail'] = data['mail'].apply(leammtizer)\n",
        "test['mail'] = test['mail'].apply(leammtizer)\n",
        "\n",
        "data['mail'] = data['mail'].apply(lambda x: ' '.join(x))\n",
        "test['mail'] = test['mail'].apply(lambda x: ' '.join(x))    \n",
        "\n",
        "#data.head()\n",
        "#test.head()"
      ],
      "metadata": {
        "id": "ui08Iynh-hTQ",
        "execution": {
          "iopub.status.busy": "2021-12-10T12:53:30.106422Z",
          "iopub.execute_input": "2021-12-10T12:53:30.106725Z",
          "iopub.status.idle": "2021-12-10T12:53:59.369541Z",
          "shell.execute_reply.started": "2021-12-10T12:53:30.106666Z",
          "shell.execute_reply": "2021-12-10T12:53:59.368619Z"
        },
        "trusted": true
      },
      "execution_count": null,
      "outputs": []
    },
    {
      "cell_type": "code",
      "source": [
        "max_words = 40000\n",
        "#cv = CountVectorizer(max_features=max_words, stop_words='english')\n",
        "from sklearn.feature_extraction.text import TfidfVectorizer\n",
        "cv = TfidfVectorizer(max_features=max_words, stop_words='english', ngram_range=(1,2))\n",
        "\n",
        "train_vectors = cv.fit_transform(data['mail']).toarray()\n",
        "test_vectors = cv.transform(test['mail']).toarray()"
      ],
      "metadata": {
        "id": "3fitJuPI-hTS",
        "execution": {
          "iopub.status.busy": "2021-12-10T12:53:59.374011Z",
          "iopub.execute_input": "2021-12-10T12:53:59.374287Z",
          "iopub.status.idle": "2021-12-10T12:54:01.933883Z",
          "shell.execute_reply.started": "2021-12-10T12:53:59.374254Z",
          "shell.execute_reply": "2021-12-10T12:54:01.932993Z"
        },
        "trusted": true
      },
      "execution_count": null,
      "outputs": []
    },
    {
      "cell_type": "code",
      "source": [
        "print(train_vectors.shape)\n",
        "print(test_vectors.shape)"
      ],
      "metadata": {
        "id": "15OiR9sB-hTS",
        "execution": {
          "iopub.status.busy": "2021-12-10T12:54:01.935127Z",
          "iopub.execute_input": "2021-12-10T12:54:01.935391Z",
          "iopub.status.idle": "2021-12-10T12:54:01.941402Z",
          "shell.execute_reply.started": "2021-12-10T12:54:01.935357Z",
          "shell.execute_reply": "2021-12-10T12:54:01.940502Z"
        },
        "trusted": true
      },
      "execution_count": null,
      "outputs": []
    },
    {
      "cell_type": "code",
      "source": [
        "x_train, x_test, y_train, y_test = train_test_split(train_vectors, np.array(data['label']))"
      ],
      "metadata": {
        "id": "iUhwudOg-hTT",
        "execution": {
          "iopub.status.busy": "2021-12-10T12:54:01.943246Z",
          "iopub.execute_input": "2021-12-10T12:54:01.943883Z",
          "iopub.status.idle": "2021-12-10T12:54:02.454842Z",
          "shell.execute_reply.started": "2021-12-10T12:54:01.943841Z",
          "shell.execute_reply": "2021-12-10T12:54:02.450878Z"
        },
        "trusted": true
      },
      "execution_count": null,
      "outputs": []
    },
    {
      "cell_type": "code",
      "source": [
        "class Classifier(nn.Module):\n",
        "    def __init__(self):\n",
        "        super(Classifier, self).__init__()\n",
        "        self.linear1 = nn.Linear(40000, 10000)\n",
        "        self.linear2 = nn.Linear(10000, 100)\n",
        "        self.linear3 = nn.Linear(100, 10)\n",
        "        self.linear4 = nn.Linear(10, 2)\n",
        "        \n",
        "    def forward(self, x):\n",
        "        x = F.relu(self.linear1(x))\n",
        "        x = F.relu(self.linear2(x))\n",
        "        x = F.relu(self.linear3(x))\n",
        "        x = self.linear4(x)\n",
        "        return x"
      ],
      "metadata": {
        "id": "hS8bpMyi-hTU",
        "execution": {
          "iopub.status.busy": "2021-12-10T12:54:02.456512Z",
          "iopub.execute_input": "2021-12-10T12:54:02.457029Z",
          "iopub.status.idle": "2021-12-10T12:54:02.465395Z",
          "shell.execute_reply.started": "2021-12-10T12:54:02.456989Z",
          "shell.execute_reply": "2021-12-10T12:54:02.464211Z"
        },
        "trusted": true
      },
      "execution_count": null,
      "outputs": []
    },
    {
      "cell_type": "code",
      "source": [
        "model = Classifier().cuda()"
      ],
      "metadata": {
        "id": "hVP1VT26-hTV",
        "execution": {
          "iopub.status.busy": "2021-12-10T12:54:02.467384Z",
          "iopub.execute_input": "2021-12-10T12:54:02.468091Z",
          "iopub.status.idle": "2021-12-10T12:54:09.187591Z",
          "shell.execute_reply.started": "2021-12-10T12:54:02.468019Z",
          "shell.execute_reply": "2021-12-10T12:54:09.186831Z"
        },
        "trusted": true
      },
      "execution_count": null,
      "outputs": []
    },
    {
      "cell_type": "code",
      "source": [
        "class EarlyStopping:\n",
        "    def __init__(self, patience=7, verbose=False, delta=0, path='checkpoint.pt'):\n",
        "        self.patience = patience\n",
        "        self.verbose = verbose\n",
        "        self.counter = 0\n",
        "        self.best_score = None\n",
        "        self.early_stop = False\n",
        "        self.val_loss_min = np.Inf\n",
        "        self.delta = delta\n",
        "        self.path = path\n",
        "\n",
        "    def __call__(self, val_loss, model):\n",
        "\n",
        "        score = -val_loss\n",
        "\n",
        "        if self.best_score is None:\n",
        "            self.best_score = score\n",
        "            self.save_checkpoint(val_loss, model)\n",
        "        elif score < self.best_score + self.delta:\n",
        "            self.counter += 1\n",
        "            print(f'EarlyStopping counter: {self.counter} out of {self.patience}')\n",
        "            if self.counter >= self.patience:\n",
        "                self.early_stop = True\n",
        "        else:\n",
        "            self.best_score = score\n",
        "            self.save_checkpoint(val_loss, model)\n",
        "            self.counter = 0\n",
        "\n",
        "    def save_checkpoint(self, val_loss, model):\n",
        "        if self.verbose:\n",
        "            print(f'Validation loss decreased ({self.val_loss_min:.6f} --> {val_loss:.6f}).  Saving model ...')\n",
        "        torch.save(model.state_dict(), self.path)\n",
        "        self.val_loss_min = val_loss"
      ],
      "metadata": {
        "id": "PkPHsL2yYPqK",
        "execution": {
          "iopub.status.busy": "2021-12-10T12:54:09.191084Z",
          "iopub.execute_input": "2021-12-10T12:54:09.191308Z",
          "iopub.status.idle": "2021-12-10T12:54:09.200306Z",
          "shell.execute_reply.started": "2021-12-10T12:54:09.191282Z",
          "shell.execute_reply": "2021-12-10T12:54:09.199624Z"
        },
        "trusted": true
      },
      "execution_count": null,
      "outputs": []
    },
    {
      "cell_type": "code",
      "source": [
        "criterion = nn.CrossEntropyLoss()\n",
        "optimizer = torch.optim.Adam(params=model.parameters() , lr=0.01)"
      ],
      "metadata": {
        "id": "2zCICFZN-hTW",
        "execution": {
          "iopub.status.busy": "2021-12-10T12:54:09.201753Z",
          "iopub.execute_input": "2021-12-10T12:54:09.202259Z",
          "iopub.status.idle": "2021-12-10T12:54:09.209805Z",
          "shell.execute_reply.started": "2021-12-10T12:54:09.202221Z",
          "shell.execute_reply": "2021-12-10T12:54:09.209026Z"
        },
        "trusted": true
      },
      "execution_count": null,
      "outputs": []
    },
    {
      "cell_type": "code",
      "source": [
        "x_train = Variable(torch.from_numpy(x_train)).float()\n",
        "y_train = Variable(torch.from_numpy(y_train)).long()\n",
        "x_test = Variable(torch.from_numpy(x_test)).float()\n",
        "y_test = Variable(torch.from_numpy(y_test)).long()"
      ],
      "metadata": {
        "id": "bSohyUH9-hTX",
        "execution": {
          "iopub.status.busy": "2021-12-10T12:54:09.210734Z",
          "iopub.execute_input": "2021-12-10T12:54:09.211303Z",
          "iopub.status.idle": "2021-12-10T12:54:09.592910Z",
          "shell.execute_reply.started": "2021-12-10T12:54:09.211266Z",
          "shell.execute_reply": "2021-12-10T12:54:09.592094Z"
        },
        "trusted": true
      },
      "execution_count": null,
      "outputs": []
    },
    {
      "cell_type": "code",
      "source": [
        "epochs = 100\n",
        "model.train()\n",
        "# loss_values = []\n",
        "x_train = x_train.cuda()\n",
        "y_train = y_train.cuda()\n",
        "x_test = x_test.cuda()\n",
        "y_test = y_test.cuda()\n",
        "\n",
        "def train_model(model, x_train, y_train, x_test, y_test, criterion, optimizer, epochs):\n",
        "    loss_values = []\n",
        "    early_stopping = EarlyStopping(patience = 20, verbose = True)\n",
        "    flag = 0\n",
        "\n",
        "    for epoch in tqdm(range(epochs)):\n",
        "        if flag == 1:\n",
        "            break\n",
        "        print('Epoch {}/{}'.format(epoch+1, epochs))\n",
        "        print('---------------------------')\n",
        "        \n",
        "        for phase in ['train', 'val']:\n",
        "            if phase == 'train':\n",
        "                model.train()\n",
        "            else:\n",
        "                model.eval()\n",
        "            \n",
        "            epoch_loss = 0.0\n",
        "            epoch_corrects = 0\n",
        "            \n",
        "            if(epoch == 0) and (phase == 'train'):\n",
        "                continue\n",
        "            \n",
        "            optimizer.zero_grad()\n",
        "            \n",
        "            with torch.set_grad_enabled(phase=='train'):\n",
        "                if(phase == 'train'):\n",
        "                    output = model(x_train)\n",
        "                    loss = criterion(output, y_train)\n",
        "                    loss.backward()\n",
        "                    optimizer.step()\n",
        "                    \n",
        "                    pred = torch.max(output, 1)[1].eq(y_train).sum()\n",
        "                    acc = (pred * 100.0 / len(x_train)).cpu()\n",
        "                    print('{} Loss: {:f} Acc: {:f}'.format(phase, loss.item(), acc.numpy()))\n",
        "                    \n",
        "                else:\n",
        "                    output = model(x_test)\n",
        "                    loss = criterion(output, y_test)\n",
        "                    loss_values.append(loss.item())\n",
        "                    \n",
        "                    pred = torch.max(output, 1)[1].eq(y_test).sum()\n",
        "                    acc = (pred * 100.0 / len(x_test)).cpu()\n",
        "                    print('{} Loss: {:f} Acc: {:f}'.format(phase, loss.item(), acc.numpy()))\n",
        "                    early_stopping(loss.item(), model)\n",
        "\n",
        "                    if early_stopping.early_stop:\n",
        "                        print(\"Early stopping\")\n",
        "                        flag = 1\n",
        "                        break\n",
        "\n",
        "    model.load_state_dict(torch.load('checkpoint.pt'))\n",
        "    return model, loss_values\n",
        "\n",
        "model, loss_values = train_model(model, x_train, y_train, x_test, y_test, criterion, optimizer, epochs)"
      ],
      "metadata": {
        "id": "brwC_jMM-hTX",
        "execution": {
          "iopub.status.busy": "2021-12-10T12:54:09.594339Z",
          "iopub.execute_input": "2021-12-10T12:54:09.595118Z",
          "iopub.status.idle": "2021-12-10T13:01:19.121545Z",
          "shell.execute_reply.started": "2021-12-10T12:54:09.595067Z",
          "shell.execute_reply": "2021-12-10T13:01:19.120742Z"
        },
        "trusted": true
      },
      "execution_count": null,
      "outputs": []
    },
    {
      "cell_type": "code",
      "source": [
        "plt.plot(loss_values)\n",
        "plt.title('Val Loss vs Epochs')\n",
        "plt.xlabel('Epochs')\n",
        "plt.ylabel('Loss')\n",
        "plt.legend(['Loss'])\n",
        "plt.show()\n",
        "print(loss_values)"
      ],
      "metadata": {
        "id": "AdJw9gFe-hTY",
        "execution": {
          "iopub.status.busy": "2021-12-10T13:01:19.123186Z",
          "iopub.execute_input": "2021-12-10T13:01:19.123462Z",
          "iopub.status.idle": "2021-12-10T13:01:19.364127Z",
          "shell.execute_reply.started": "2021-12-10T13:01:19.123425Z",
          "shell.execute_reply": "2021-12-10T13:01:19.362993Z"
        },
        "trusted": true
      },
      "execution_count": null,
      "outputs": []
    },
    {
      "cell_type": "code",
      "source": [
        "# model.load_state_dict(torch.load('tfidf40000_state.pt')) \n",
        "\n",
        "model.eval()\n",
        "x_test = x_test.cuda()\n",
        "y_test = y_test.cuda()\n",
        "with torch.no_grad():\n",
        "    y_pred = model(x_test)\n",
        "    loss = criterion(y_pred, y_test)\n",
        "    pred = torch.max(y_pred, 1)[1].eq(y_test).sum()\n",
        "    print (\"Accuracy : {}%\".format(100*pred/len(x_test)))\n",
        "loss"
      ],
      "metadata": {
        "id": "B37TguKu-hTZ",
        "execution": {
          "iopub.status.busy": "2021-12-10T13:01:19.365493Z",
          "iopub.execute_input": "2021-12-10T13:01:19.365768Z",
          "iopub.status.idle": "2021-12-10T13:01:19.526629Z",
          "shell.execute_reply.started": "2021-12-10T13:01:19.365731Z",
          "shell.execute_reply": "2021-12-10T13:01:19.525885Z"
        },
        "trusted": true
      },
      "execution_count": null,
      "outputs": []
    },
    {
      "cell_type": "code",
      "source": [
        "# f1 score, accuracy_score, precision_score, recall_score, confusion_matrix\n",
        "from sklearn.metrics import f1_score, accuracy_score, precision_score, recall_score, confusion_matrix\n",
        "print(\"f1_score : {}\" .format(f1_score(y_test.cpu(), torch.max(y_pred, 1)[1].cpu())))\n",
        "print(\"accuracy_score : {}\" .format(accuracy_score(y_test.cpu(), torch.max(y_pred, 1)[1].cpu())))\n",
        "print(\"precision_score : {}\" .format(precision_score(y_test.cpu(), torch.max(y_pred, 1)[1].cpu())))\n",
        "print(\"recall_score : {}\" .format(recall_score(y_test.cpu(), torch.max(y_pred, 1)[1].cpu())))\n",
        "print(\"confusion_matrix : {}\" .format(confusion_matrix(y_test.cpu(), torch.max(y_pred, 1)[1].cpu())))\n",
        "\n",
        "from sklearn.metrics import classification_report\n",
        "print(classification_report(y_test.cpu(), torch.max(y_pred, 1)[1].cpu()))"
      ],
      "metadata": {
        "id": "3vk8JdQBQRXG",
        "execution": {
          "iopub.status.busy": "2021-12-10T13:01:19.527800Z",
          "iopub.execute_input": "2021-12-10T13:01:19.528634Z",
          "iopub.status.idle": "2021-12-10T13:01:19.553166Z",
          "shell.execute_reply.started": "2021-12-10T13:01:19.528591Z",
          "shell.execute_reply": "2021-12-10T13:01:19.552490Z"
        },
        "trusted": true
      },
      "execution_count": null,
      "outputs": []
    },
    {
      "cell_type": "code",
      "source": [
        "x_pred = Variable(torch.from_numpy(test_vectors)).float()"
      ],
      "metadata": {
        "id": "0khvvJR5-hTa",
        "execution": {
          "iopub.status.busy": "2021-12-10T13:01:19.554260Z",
          "iopub.execute_input": "2021-12-10T13:01:19.554968Z",
          "iopub.status.idle": "2021-12-10T13:01:19.787141Z",
          "shell.execute_reply.started": "2021-12-10T13:01:19.554929Z",
          "shell.execute_reply": "2021-12-10T13:01:19.786380Z"
        },
        "trusted": true
      },
      "execution_count": null,
      "outputs": []
    },
    {
      "cell_type": "code",
      "source": [
        "model.eval()\n",
        "x_pred=x_pred.cuda()\n",
        "with torch.no_grad():\n",
        "    y_pred = model(x_pred)"
      ],
      "metadata": {
        "id": "wkarzIF2-hTb",
        "execution": {
          "iopub.status.busy": "2021-12-10T13:01:19.788435Z",
          "iopub.execute_input": "2021-12-10T13:01:19.788799Z",
          "iopub.status.idle": "2021-12-10T13:01:19.856365Z",
          "shell.execute_reply.started": "2021-12-10T13:01:19.788758Z",
          "shell.execute_reply": "2021-12-10T13:01:19.855718Z"
        },
        "trusted": true
      },
      "execution_count": null,
      "outputs": []
    },
    {
      "cell_type": "code",
      "source": [
        "#y_pred"
      ],
      "metadata": {
        "id": "sqV6XCrJ-hTb",
        "execution": {
          "iopub.status.busy": "2021-12-10T13:01:19.857589Z",
          "iopub.execute_input": "2021-12-10T13:01:19.857924Z",
          "iopub.status.idle": "2021-12-10T13:01:19.861898Z",
          "shell.execute_reply.started": "2021-12-10T13:01:19.857884Z",
          "shell.execute_reply": "2021-12-10T13:01:19.861098Z"
        },
        "trusted": true
      },
      "execution_count": null,
      "outputs": []
    },
    {
      "cell_type": "code",
      "source": [
        "result = torch.max(y_pred, 1)[1]"
      ],
      "metadata": {
        "id": "vYZzl0RP-hTc",
        "execution": {
          "iopub.status.busy": "2021-12-10T13:01:19.863367Z",
          "iopub.execute_input": "2021-12-10T13:01:19.863612Z",
          "iopub.status.idle": "2021-12-10T13:01:19.871022Z",
          "shell.execute_reply.started": "2021-12-10T13:01:19.863578Z",
          "shell.execute_reply": "2021-12-10T13:01:19.870388Z"
        },
        "trusted": true
      },
      "execution_count": null,
      "outputs": []
    },
    {
      "cell_type": "code",
      "source": [
        "print(result)"
      ],
      "metadata": {
        "id": "XUselBUw-hTc",
        "execution": {
          "iopub.status.busy": "2021-12-10T13:01:19.872361Z",
          "iopub.execute_input": "2021-12-10T13:01:19.872846Z",
          "iopub.status.idle": "2021-12-10T13:01:20.023053Z",
          "shell.execute_reply.started": "2021-12-10T13:01:19.872807Z",
          "shell.execute_reply": "2021-12-10T13:01:20.021583Z"
        },
        "trusted": true
      },
      "execution_count": null,
      "outputs": []
    },
    {
      "cell_type": "code",
      "source": [
        "result = result.tolist()"
      ],
      "metadata": {
        "id": "B_-9p1GR-hTd",
        "execution": {
          "iopub.status.busy": "2021-12-10T13:01:20.024493Z",
          "iopub.execute_input": "2021-12-10T13:01:20.024764Z",
          "iopub.status.idle": "2021-12-10T13:01:20.028996Z",
          "shell.execute_reply.started": "2021-12-10T13:01:20.024729Z",
          "shell.execute_reply": "2021-12-10T13:01:20.027911Z"
        },
        "trusted": true
      },
      "execution_count": null,
      "outputs": []
    },
    {
      "cell_type": "code",
      "source": [
        "f = open(\"./onground.csv\", \"w\")\n",
        "f.write(\"id\"+','+\"label\"+'\\n')\n",
        "for id, label in enumerate(result):\n",
        "    f.write(str(id)+','+str(label)+'\\n')\n",
        "    \n",
        "\n",
        "f.close()\n"
      ],
      "metadata": {
        "id": "Cd5SyqGz-hTd",
        "execution": {
          "iopub.status.busy": "2021-12-10T13:01:20.030332Z",
          "iopub.execute_input": "2021-12-10T13:01:20.030831Z",
          "iopub.status.idle": "2021-12-10T13:01:20.041672Z",
          "shell.execute_reply.started": "2021-12-10T13:01:20.030792Z",
          "shell.execute_reply": "2021-12-10T13:01:20.040981Z"
        },
        "trusted": true
      },
      "execution_count": null,
      "outputs": []
    },
    {
      "cell_type": "code",
      "source": [
        ""
      ],
      "metadata": {
        "id": "fQQXw4cvMRUc"
      },
      "execution_count": null,
      "outputs": []
    },
    {
      "cell_type": "code",
      "source": [
        ""
      ],
      "metadata": {
        "id": "XE8iSyfAcZb6"
      },
      "execution_count": null,
      "outputs": []
    }
  ]
}